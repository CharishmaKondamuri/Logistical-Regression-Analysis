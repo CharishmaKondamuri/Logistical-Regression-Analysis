{
 "cells": [
  {
   "cell_type": "code",
   "execution_count": 48,
   "metadata": {},
   "outputs": [],
   "source": [
    "#Load Libraries\n",
    "import numpy as np\n",
    "import pandas as pd\n",
    "import matplotlib.pyplot as plt\n",
    "%matplotlib inline\n",
    "import seaborn as sns"
   ]
  },
  {
   "cell_type": "code",
   "execution_count": 49,
   "metadata": {},
   "outputs": [
    {
     "data": {
      "text/html": [
       "<div>\n",
       "<style scoped>\n",
       "    .dataframe tbody tr th:only-of-type {\n",
       "        vertical-align: middle;\n",
       "    }\n",
       "\n",
       "    .dataframe tbody tr th {\n",
       "        vertical-align: top;\n",
       "    }\n",
       "\n",
       "    .dataframe thead th {\n",
       "        text-align: right;\n",
       "    }\n",
       "</style>\n",
       "<table border=\"1\" class=\"dataframe\">\n",
       "  <thead>\n",
       "    <tr style=\"text-align: right;\">\n",
       "      <th></th>\n",
       "      <th>Area</th>\n",
       "      <th>MajorAxisLength</th>\n",
       "      <th>MinorAxisLength</th>\n",
       "      <th>Eccentricity</th>\n",
       "      <th>ConvexArea</th>\n",
       "      <th>Extent</th>\n",
       "      <th>Perimeter</th>\n",
       "      <th>Class</th>\n",
       "    </tr>\n",
       "  </thead>\n",
       "  <tbody>\n",
       "    <tr>\n",
       "      <th>0</th>\n",
       "      <td>87524</td>\n",
       "      <td>442.246011</td>\n",
       "      <td>253.291155</td>\n",
       "      <td>0.819738</td>\n",
       "      <td>90546</td>\n",
       "      <td>0.758651</td>\n",
       "      <td>1184.040</td>\n",
       "      <td>Kecimen</td>\n",
       "    </tr>\n",
       "    <tr>\n",
       "      <th>1</th>\n",
       "      <td>75166</td>\n",
       "      <td>406.690687</td>\n",
       "      <td>243.032436</td>\n",
       "      <td>0.801805</td>\n",
       "      <td>78789</td>\n",
       "      <td>0.684130</td>\n",
       "      <td>1121.786</td>\n",
       "      <td>Kecimen</td>\n",
       "    </tr>\n",
       "    <tr>\n",
       "      <th>2</th>\n",
       "      <td>90856</td>\n",
       "      <td>442.267048</td>\n",
       "      <td>266.328318</td>\n",
       "      <td>0.798354</td>\n",
       "      <td>93717</td>\n",
       "      <td>0.637613</td>\n",
       "      <td>1208.575</td>\n",
       "      <td>Kecimen</td>\n",
       "    </tr>\n",
       "    <tr>\n",
       "      <th>3</th>\n",
       "      <td>45928</td>\n",
       "      <td>286.540559</td>\n",
       "      <td>208.760042</td>\n",
       "      <td>0.684989</td>\n",
       "      <td>47336</td>\n",
       "      <td>0.699599</td>\n",
       "      <td>844.162</td>\n",
       "      <td>Kecimen</td>\n",
       "    </tr>\n",
       "    <tr>\n",
       "      <th>4</th>\n",
       "      <td>79408</td>\n",
       "      <td>352.190770</td>\n",
       "      <td>290.827533</td>\n",
       "      <td>0.564011</td>\n",
       "      <td>81463</td>\n",
       "      <td>0.792772</td>\n",
       "      <td>1073.251</td>\n",
       "      <td>Kecimen</td>\n",
       "    </tr>\n",
       "  </tbody>\n",
       "</table>\n",
       "</div>"
      ],
      "text/plain": [
       "    Area  MajorAxisLength  MinorAxisLength  Eccentricity  ConvexArea  \\\n",
       "0  87524       442.246011       253.291155      0.819738       90546   \n",
       "1  75166       406.690687       243.032436      0.801805       78789   \n",
       "2  90856       442.267048       266.328318      0.798354       93717   \n",
       "3  45928       286.540559       208.760042      0.684989       47336   \n",
       "4  79408       352.190770       290.827533      0.564011       81463   \n",
       "\n",
       "     Extent  Perimeter    Class  \n",
       "0  0.758651   1184.040  Kecimen  \n",
       "1  0.684130   1121.786  Kecimen  \n",
       "2  0.637613   1208.575  Kecimen  \n",
       "3  0.699599    844.162  Kecimen  \n",
       "4  0.792772   1073.251  Kecimen  "
      ]
     },
     "execution_count": 49,
     "metadata": {},
     "output_type": "execute_result"
    }
   ],
   "source": [
    "#Load Dataset\n",
    "Raisin=pd.read_csv('C:/Users/Owner/Downloads/Raisin_Dataset.csv')\n",
    "Raisin.head()"
   ]
  },
  {
   "cell_type": "code",
   "execution_count": 50,
   "metadata": {},
   "outputs": [
    {
     "data": {
      "text/html": [
       "<div>\n",
       "<style scoped>\n",
       "    .dataframe tbody tr th:only-of-type {\n",
       "        vertical-align: middle;\n",
       "    }\n",
       "\n",
       "    .dataframe tbody tr th {\n",
       "        vertical-align: top;\n",
       "    }\n",
       "\n",
       "    .dataframe thead th {\n",
       "        text-align: right;\n",
       "    }\n",
       "</style>\n",
       "<table border=\"1\" class=\"dataframe\">\n",
       "  <thead>\n",
       "    <tr style=\"text-align: right;\">\n",
       "      <th></th>\n",
       "      <th>Area</th>\n",
       "      <th>MajorAxisLength</th>\n",
       "      <th>MinorAxisLength</th>\n",
       "      <th>Eccentricity</th>\n",
       "      <th>ConvexArea</th>\n",
       "      <th>Extent</th>\n",
       "      <th>Perimeter</th>\n",
       "    </tr>\n",
       "  </thead>\n",
       "  <tbody>\n",
       "    <tr>\n",
       "      <th>count</th>\n",
       "      <td>900.000000</td>\n",
       "      <td>900.000000</td>\n",
       "      <td>900.000000</td>\n",
       "      <td>900.000000</td>\n",
       "      <td>900.000000</td>\n",
       "      <td>900.000000</td>\n",
       "      <td>900.000000</td>\n",
       "    </tr>\n",
       "    <tr>\n",
       "      <th>mean</th>\n",
       "      <td>87804.127778</td>\n",
       "      <td>430.929950</td>\n",
       "      <td>254.488133</td>\n",
       "      <td>0.781542</td>\n",
       "      <td>91186.090000</td>\n",
       "      <td>0.699508</td>\n",
       "      <td>1165.906636</td>\n",
       "    </tr>\n",
       "    <tr>\n",
       "      <th>std</th>\n",
       "      <td>39002.111390</td>\n",
       "      <td>116.035121</td>\n",
       "      <td>49.988902</td>\n",
       "      <td>0.090318</td>\n",
       "      <td>40769.290132</td>\n",
       "      <td>0.053468</td>\n",
       "      <td>273.764315</td>\n",
       "    </tr>\n",
       "    <tr>\n",
       "      <th>min</th>\n",
       "      <td>25387.000000</td>\n",
       "      <td>225.629541</td>\n",
       "      <td>143.710872</td>\n",
       "      <td>0.348730</td>\n",
       "      <td>26139.000000</td>\n",
       "      <td>0.379856</td>\n",
       "      <td>619.074000</td>\n",
       "    </tr>\n",
       "    <tr>\n",
       "      <th>25%</th>\n",
       "      <td>59348.000000</td>\n",
       "      <td>345.442898</td>\n",
       "      <td>219.111126</td>\n",
       "      <td>0.741766</td>\n",
       "      <td>61513.250000</td>\n",
       "      <td>0.670869</td>\n",
       "      <td>966.410750</td>\n",
       "    </tr>\n",
       "    <tr>\n",
       "      <th>50%</th>\n",
       "      <td>78902.000000</td>\n",
       "      <td>407.803951</td>\n",
       "      <td>247.848409</td>\n",
       "      <td>0.798846</td>\n",
       "      <td>81651.000000</td>\n",
       "      <td>0.707367</td>\n",
       "      <td>1119.509000</td>\n",
       "    </tr>\n",
       "    <tr>\n",
       "      <th>75%</th>\n",
       "      <td>105028.250000</td>\n",
       "      <td>494.187014</td>\n",
       "      <td>279.888575</td>\n",
       "      <td>0.842571</td>\n",
       "      <td>108375.750000</td>\n",
       "      <td>0.734991</td>\n",
       "      <td>1308.389750</td>\n",
       "    </tr>\n",
       "    <tr>\n",
       "      <th>max</th>\n",
       "      <td>235047.000000</td>\n",
       "      <td>997.291941</td>\n",
       "      <td>492.275279</td>\n",
       "      <td>0.962124</td>\n",
       "      <td>278217.000000</td>\n",
       "      <td>0.835455</td>\n",
       "      <td>2697.753000</td>\n",
       "    </tr>\n",
       "  </tbody>\n",
       "</table>\n",
       "</div>"
      ],
      "text/plain": [
       "                Area  MajorAxisLength  MinorAxisLength  Eccentricity  \\\n",
       "count     900.000000       900.000000       900.000000    900.000000   \n",
       "mean    87804.127778       430.929950       254.488133      0.781542   \n",
       "std     39002.111390       116.035121        49.988902      0.090318   \n",
       "min     25387.000000       225.629541       143.710872      0.348730   \n",
       "25%     59348.000000       345.442898       219.111126      0.741766   \n",
       "50%     78902.000000       407.803951       247.848409      0.798846   \n",
       "75%    105028.250000       494.187014       279.888575      0.842571   \n",
       "max    235047.000000       997.291941       492.275279      0.962124   \n",
       "\n",
       "          ConvexArea      Extent    Perimeter  \n",
       "count     900.000000  900.000000   900.000000  \n",
       "mean    91186.090000    0.699508  1165.906636  \n",
       "std     40769.290132    0.053468   273.764315  \n",
       "min     26139.000000    0.379856   619.074000  \n",
       "25%     61513.250000    0.670869   966.410750  \n",
       "50%     81651.000000    0.707367  1119.509000  \n",
       "75%    108375.750000    0.734991  1308.389750  \n",
       "max    278217.000000    0.835455  2697.753000  "
      ]
     },
     "execution_count": 50,
     "metadata": {},
     "output_type": "execute_result"
    }
   ],
   "source": [
    "#Show Key Statistics\n",
    "Raisin.describe()"
   ]
  },
  {
   "cell_type": "code",
   "execution_count": 65,
   "metadata": {
    "scrolled": false
   },
   "outputs": [
    {
     "data": {
      "application/vnd.jupyter.widget-view+json": {
       "model_id": "57733ab0b74644a5b8cc727e38223ef5",
       "version_major": 2,
       "version_minor": 0
      },
      "text/plain": [
       "Summarize dataset:   0%|          | 0/5 [00:00<?, ?it/s]"
      ]
     },
     "metadata": {},
     "output_type": "display_data"
    },
    {
     "data": {
      "application/vnd.jupyter.widget-view+json": {
       "model_id": "d5ea19792b4d4f9a8ac477717ea64b66",
       "version_major": 2,
       "version_minor": 0
      },
      "text/plain": [
       "Generate report structure:   0%|          | 0/1 [00:00<?, ?it/s]"
      ]
     },
     "metadata": {},
     "output_type": "display_data"
    },
    {
     "data": {
      "application/vnd.jupyter.widget-view+json": {
       "model_id": "59e881389ec34e0780e8294439f89f5b",
       "version_major": 2,
       "version_minor": 0
      },
      "text/plain": [
       "Render HTML:   0%|          | 0/1 [00:00<?, ?it/s]"
      ]
     },
     "metadata": {},
     "output_type": "display_data"
    },
    {
     "data": {
      "application/vnd.jupyter.widget-view+json": {
       "model_id": "01f9610cf50041d9841e9e4a31d7ebab",
       "version_major": 2,
       "version_minor": 0
      },
      "text/plain": [
       "Export report to file:   0%|          | 0/1 [00:00<?, ?it/s]"
      ]
     },
     "metadata": {},
     "output_type": "display_data"
    },
    {
     "data": {
      "text/html": [
       "\n",
       "        <iframe\n",
       "            width=\"900\"\n",
       "            height=\"350\"\n",
       "            src=\"DiabetesReport3a-lib.html\"\n",
       "            frameborder=\"0\"\n",
       "            allowfullscreen\n",
       "            \n",
       "        ></iframe>\n",
       "        "
      ],
      "text/plain": [
       "<IPython.lib.display.IFrame at 0x1b345c2bbb0>"
      ]
     },
     "metadata": {},
     "output_type": "display_data"
    }
   ],
   "source": [
    "#Create Profile Report\n",
    "    \n",
    "#Importing package\n",
    "import pandas_profiling as pp\n",
    "from IPython.display import IFrame\n",
    " \n",
    "# Profile Report\n",
    "RaisinReport = pp.ProfileReport(Diabetes)\n",
    "RaisinReport.to_file('RaisinReport3a-lib.html')\n",
    "display(IFrame('RaisinReport3a-lib.html', width=900, height=350))"
   ]
  },
  {
   "cell_type": "code",
   "execution_count": 52,
   "metadata": {},
   "outputs": [
    {
     "name": "stdout",
     "output_type": "stream",
     "text": [
      "Class Split\n",
      "1    450\n",
      "0    450\n",
      "Name: Class, dtype: int64\n"
     ]
    },
    {
     "data": {
      "text/plain": [
       "Text(0, 0.5, 'Count')"
      ]
     },
     "execution_count": 52,
     "metadata": {},
     "output_type": "execute_result"
    },
    {
     "data": {
      "image/png": "[encoded data removed]",
      "text/plain": [
       "<Figure size 1000x400 with 1 Axes>"
      ]
     },
     "metadata": {},
     "output_type": "display_data"
    }
   ],
   "source": [
    "#Class Balance\n",
    "from sklearn.preprocessing import LabelEncoder\n",
    "# Create an instance of LabelEncoder\n",
    "label_encoder = LabelEncoder()\n",
    "# Fit and transform the \"Class\" column to numerical values\n",
    "Raisin['Class'] = label_encoder.fit_transform(Raisin['Class'])\n",
    "\n",
    "print('Class Split')\n",
    "print(Raisin['Class'].value_counts())\n",
    "Raisin['Class'].value_counts().plot.bar(figsize=(10,4),title='Classes Split for Dataset')\n",
    "plt.xlabel('Classes')\n",
    "plt.ylabel('Count')"
   ]
  },
  {
   "cell_type": "code",
   "execution_count": 53,
   "metadata": {},
   "outputs": [
    {
     "name": "stdout",
     "output_type": "stream",
     "text": [
      "Correlated columns @ 0.8: [('MajorAxisLength', 'Area'), ('MinorAxisLength', 'Area'), ('ConvexArea', 'Area'), ('ConvexArea', 'MajorAxisLength'), ('ConvexArea', 'MinorAxisLength'), ('Perimeter', 'Area'), ('Perimeter', 'MajorAxisLength'), ('Perimeter', 'MinorAxisLength'), ('Perimeter', 'ConvexArea')]\n"
     ]
    }
   ],
   "source": [
    "#Find Independent Column Correlations\n",
    "def correlation(dataset,threshold):\n",
    "    col_corr= [] # List of correlated columns\n",
    "    corr_matrix=dataset.corr() #finding correlation between columns\n",
    "    for i in range (len(corr_matrix.columns)): #Number of columns\n",
    "        for j in range (i):\n",
    "            if abs(corr_matrix.iloc[i,j])>threshold: #checking correlation between columns\n",
    "                colName=(corr_matrix.columns[i], corr_matrix.columns[j]) #getting correlated columns\n",
    "                col_corr.append(colName) #adding correlated column name\n",
    "    return col_corr #returning set of column names\n",
    "col=correlation(Diabetes,0.8)\n",
    "print('Correlated columns @ 0.8:', col)"
   ]
  },
  {
   "cell_type": "code",
   "execution_count": 54,
   "metadata": {},
   "outputs": [],
   "source": [
    "#Define x and y variable\n",
    "x = Raisin.drop('Class',axis=1).to_numpy()\n",
    "y = Raisin['Class'].to_numpy()\n",
    "\n",
    "# Create Train and Test Datasets\n",
    "from sklearn.model_selection import train_test_split\n",
    "x_train, x_test, y_train, y_test = train_test_split(x, y, test_size=0.20,stratify=y,random_state=100)\n",
    "\n",
    "#Scale the Data\n",
    "from sklearn.preprocessing import StandardScaler\n",
    "sc = StandardScaler()\n",
    "x_train2 = sc.fit_transform(x_train)\n",
    "x_test2 = sc.transform(x_test)\n",
    "\n",
    "#Model\n",
    "from sklearn.linear_model import LogisticRegression"
   ]
  },
  {
   "cell_type": "code",
   "execution_count": 55,
   "metadata": {},
   "outputs": [
    {
     "name": "stdout",
     "output_type": "stream",
     "text": [
      "\n",
      "Estimator: LogReg\n",
      "[[76 14]\n",
      " [12 78]]\n",
      "              precision    recall  f1-score   support\n",
      "\n",
      "           0       0.86      0.84      0.85        90\n",
      "           1       0.85      0.87      0.86        90\n",
      "\n",
      "    accuracy                           0.86       180\n",
      "   macro avg       0.86      0.86      0.86       180\n",
      "weighted avg       0.86      0.86      0.86       180\n",
      "\n"
     ]
    }
   ],
   "source": [
    "#Base Logistical Regression Model\n",
    "from sklearn.metrics import classification_report, confusion_matrix  \n",
    "\n",
    "for name,method in [('LogReg', LogisticRegression(solver='liblinear',class_weight='balanced',\n",
    "                                               random_state=100))]: \n",
    "    method.fit(x_train2,y_train)\n",
    "    predict = method.predict(x_test2)\n",
    "    print('\\nEstimator: {}'.format(name)) \n",
    "    print(confusion_matrix(y_test,predict))  \n",
    "    print(classification_report(y_test,predict))    "
   ]
  },
  {
   "cell_type": "code",
   "execution_count": 56,
   "metadata": {},
   "outputs": [],
   "source": [
    "#Construct some pipelines \n",
    "from sklearn.pipeline import Pipeline\n",
    "from sklearn.preprocessing import StandardScaler\n",
    "\n",
    "#Create Pipeline\n",
    "\n",
    "pipeline =[]\n",
    "\n",
    "pipe_logreg = Pipeline([('scl', StandardScaler()),\n",
    "                    ('clf', LogisticRegression(solver='liblinear',class_weight='balanced',\n",
    "                                               random_state=100))])\n",
    "pipeline.insert(0,pipe_logreg)\n",
    "\n",
    "#Set grid search params \n",
    "\n",
    "modelpara =[]\n",
    "\n",
    "param_gridlogreg = {'clf__C': [0.01, 0.1, 1, 10, 100], \n",
    "                    'clf__penalty': ['l1','l2']}\n",
    "modelpara.insert(0,param_gridlogreg)"
   ]
  },
  {
   "cell_type": "code",
   "execution_count": 57,
   "metadata": {},
   "outputs": [],
   "source": [
    "#Define Plot for learning curve\n",
    "\n",
    "from sklearn.model_selection import learning_curve\n",
    "\n",
    "def plot_learning_curves(model):\n",
    "    train_sizes, train_scores, test_scores = learning_curve(estimator=model,\n",
    "                                                            X=x_train, \n",
    "                                                            y=y_train,\n",
    "                                                            train_sizes= np.linspace(0.1, 1.0, 10),\n",
    "                                                            cv=10,\n",
    "                                                            scoring='recall_weighted',random_state=100)\n",
    "    train_mean = np.mean(train_scores, axis=1)\n",
    "    train_std = np.std(train_scores, axis=1)\n",
    "    test_mean = np.mean(test_scores, axis=1)\n",
    "    test_std = np.std(test_scores, axis=1)\n",
    "    \n",
    "    plt.plot(train_sizes, train_mean,color='blue', marker='o', \n",
    "             markersize=5, label='training recall')\n",
    "    plt.fill_between(train_sizes, train_mean + train_std, train_mean - train_std,\n",
    "                     alpha=0.15, color='blue')\n",
    "\n",
    "    plt.plot(train_sizes, test_mean, color='green', linestyle='--', marker='s', markersize=5,\n",
    "             label='validation recall')\n",
    "    plt.fill_between(train_sizes, test_mean + test_std, test_mean - test_std,\n",
    "                     alpha=0.15, color='green')\n",
    "    plt.grid(True)\n",
    "    plt.xlabel('Number of training samples')\n",
    "    plt.ylabel('Recall')\n",
    "    plt.legend(loc='best')\n",
    "    plt.ylim([0.5, 1.01])\n",
    "    plt.show()"
   ]
  },
  {
   "cell_type": "code",
   "execution_count": 58,
   "metadata": {},
   "outputs": [
    {
     "name": "stdout",
     "output_type": "stream",
     "text": [
      "Logisistic Regression - Learning Curve\n"
     ]
    },
    {
     "data": {
      "image/png": "[encoded data removed]",
      "text/plain": [
       "<Figure size 640x480 with 1 Axes>"
      ]
     },
     "metadata": {},
     "output_type": "display_data"
    }
   ],
   "source": [
    "#Plot Learning Curve\n",
    "print('Logisistic Regression - Learning Curve')\n",
    "plot_learning_curves(pipe_logreg)"
   ]
  },
  {
   "cell_type": "code",
   "execution_count": 59,
   "metadata": {},
   "outputs": [
    {
     "name": "stdout",
     "output_type": "stream",
     "text": [
      "Bias Variance Trade-Off\n",
      "\n",
      "Estimator: Logistical Model\n",
      "\n",
      "Average Bias: 0.14\n",
      "Average Variance: 0.01\n"
     ]
    }
   ],
   "source": [
    "#Bias and Variance Trade-Off\n",
    "from mlxtend.evaluate import bias_variance_decomp\n",
    "\n",
    "#Bias Variance Script\n",
    "print('Bias Variance Trade-Off')\n",
    "for name,method in[('Logistical Model',pipe_logreg)]:        \n",
    "    avg_expected_loss, avg_bias, avg_var = bias_variance_decomp(\n",
    "        method, x_train2, y_train, x_test2, y_test, \n",
    "        loss='0-1_loss',\n",
    "        random_seed=100)\n",
    "    print('\\nEstimator: {}'.format(name)) \n",
    "    print('\\nAverage Bias: {:.2f}'.format(avg_bias))\n",
    "    print('Average Variance: {:.2f}'.format(avg_var))"
   ]
  },
  {
   "cell_type": "code",
   "execution_count": 60,
   "metadata": {},
   "outputs": [
    {
     "name": "stdout",
     "output_type": "stream",
     "text": [
      "Model Evaluation - Recall Weighted\n",
      "Logistic Regression 0.87 +/- 0.04\n",
      "\n",
      "\n"
     ]
    },
    {
     "data": {
      "image/png": "[encoded data removed]",
      "text/plain": [
       "<Figure size 500x500 with 1 Axes>"
      ]
     },
     "metadata": {},
     "output_type": "display_data"
    }
   ],
   "source": [
    "#Model Analysis\n",
    "from sklearn.model_selection import RepeatedKFold\n",
    "from sklearn.model_selection import cross_val_score\n",
    "\n",
    "models=[]\n",
    "models.append(('Logistic Regression',pipe_logreg))\n",
    "\n",
    "#Model Evaluation\n",
    "results =[]\n",
    "names=[]\n",
    "scoring ='recall_weighted'\n",
    "print('Model Evaluation - Recall Weighted')\n",
    "for name, model in models:\n",
    "    rkf=RepeatedKFold(n_splits=10, n_repeats=5, random_state=100)\n",
    "    cv_results = cross_val_score(model,x_train,y_train,cv=rkf,scoring=scoring)\n",
    "    results.append(cv_results)\n",
    "    names.append(name)\n",
    "    print('{} {:.2f} +/- {:.2f}'.format(name,cv_results.mean(),cv_results.std()))\n",
    "print('\\n')\n",
    "\n",
    "fig = plt.figure(figsize=(5,5))\n",
    "fig.suptitle('Boxplot View')\n",
    "ax = fig.add_subplot(111)\n",
    "sns.boxplot(data=results)\n",
    "ax.set_xticklabels(names)\n",
    "plt.ylabel('Recall')\n",
    "plt.xlabel('Model')\n",
    "plt.show()"
   ]
  },
  {
   "cell_type": "code",
   "execution_count": 62,
   "metadata": {},
   "outputs": [],
   "source": [
    "#Define Gridsearch Function\n",
    "\n",
    "from sklearn.model_selection import GridSearchCV\n",
    "from sklearn.metrics import classification_report, confusion_matrix  \n",
    "\n",
    "def Gridsearch_cv(model, params):\n",
    "    \n",
    "    #Cross-validation Function\n",
    "    cv2=RepeatedKFold(n_splits=10, n_repeats=5, random_state=100)\n",
    "        \n",
    "    #GridSearch CV\n",
    "    gs_clf = GridSearchCV(model, params, cv=cv2,scoring='recall_weighted')\n",
    "    gs_clf = gs_clf.fit(x_train, y_train)\n",
    "    model = gs_clf.best_estimator_\n",
    "    \n",
    "    # Use best model and test data for final evaluation\n",
    "    y_pred = model.predict(x_test)\n",
    "    \n",
    "    #Identify Best Parameters to Optimize the Model\n",
    "    bestpara=str(gs_clf.best_params_)\n",
    "    \n",
    "    #Output Heading\n",
    "    print('\\nOptimized Model')\n",
    "    print('\\nModel Name:',str(pipeline.named_steps['clf']))\n",
    "        \n",
    "    #Output Validation Statistics\n",
    "    target_names=['Outcome 0','Outcome 1']\n",
    "    print('\\nBest Parameters:',bestpara)\n",
    "    print('\\n', confusion_matrix(y_test,y_pred))  \n",
    "    print('\\n',classification_report(y_test,y_pred,target_names=target_names)) \n",
    "        \n",
    "    #Transform the variables into binary (0,1) - ROC Curve\n",
    "    from sklearn import preprocessing\n",
    "    Forecast1=pd.DataFrame(y_pred)\n",
    "    Outcome1=pd.DataFrame(y_test)\n",
    "    lb1 = preprocessing.LabelBinarizer()\n",
    "    OutcomeB1 =lb1.fit_transform(Outcome1)\n",
    "    ForecastB1 = lb1.fit_transform(Forecast1)\n",
    "    \n",
    "    #Setup the ROC Curve\n",
    "    from sklearn.metrics import roc_curve, auc\n",
    "    from sklearn import metrics\n",
    "    fpr, tpr, threshold = metrics.roc_curve(OutcomeB1, ForecastB1)\n",
    "    roc_auc = metrics.auc(fpr, tpr)\n",
    "    print('ROC Curve')\n",
    "    #Plot the ROC Curve\n",
    "    plt.title('Receiver Operating Characteristic')\n",
    "    plt.plot(fpr, tpr, 'b', label = 'AUC = %0.2f' % roc_auc)\n",
    "    plt.legend(loc = 'lower right')\n",
    "    plt.plot([0, 1], [0, 1],'r--')\n",
    "    plt.xlim([0, 1])\n",
    "    plt.ylim([0, 1])\n",
    "    plt.ylabel('True Positive Rate')\n",
    "    plt.xlabel('False Positive Rate')\n",
    "    plt.show()  "
   ]
  },
  {
   "cell_type": "code",
   "execution_count": 63,
   "metadata": {},
   "outputs": [
    {
     "name": "stdout",
     "output_type": "stream",
     "text": [
      "\n",
      "Optimized Model\n",
      "\n",
      "Model Name: LogisticRegression(class_weight='balanced', random_state=100,\n",
      "                   solver='liblinear')\n",
      "\n",
      "Best Parameters: {'clf__C': 0.1, 'clf__penalty': 'l2'}\n",
      "\n",
      " [[75 15]\n",
      " [12 78]]\n",
      "\n",
      "               precision    recall  f1-score   support\n",
      "\n",
      "   Outcome 0       0.86      0.83      0.85        90\n",
      "   Outcome 1       0.84      0.87      0.85        90\n",
      "\n",
      "    accuracy                           0.85       180\n",
      "   macro avg       0.85      0.85      0.85       180\n",
      "weighted avg       0.85      0.85      0.85       180\n",
      "\n",
      "ROC Curve\n"
     ]
    },
    {
     "data": {
      "image/png": "[encoded data removed]",
      "text/plain": [
       "<Figure size 640x480 with 1 Axes>"
      ]
     },
     "metadata": {},
     "output_type": "display_data"
    }
   ],
   "source": [
    "#Run Models\n",
    "\n",
    "for pipeline, modelpara in zip(pipeline,modelpara):\n",
    "    Gridsearch_cv(pipeline,modelpara)"
   ]
  },
  {
   "cell_type": "code",
   "execution_count": 64,
   "metadata": {},
   "outputs": [
    {
     "name": "stdout",
     "output_type": "stream",
     "text": [
      "\n",
      "Key Features: Index(['Area', 'Perimeter'], dtype='object')\n"
     ]
    }
   ],
   "source": [
    "#Next Steps - Feature Selection using SelectFromModel\n",
    "from sklearn.feature_selection import SelectFromModel\n",
    "clf = LogisticRegression(solver='liblinear',class_weight='balanced',\n",
    "                                            random_state=100)\n",
    "clf.fit(x_train2,y_train)\n",
    "model = SelectFromModel(clf, prefit=True)\n",
    "feature_idx = model.get_support()\n",
    "feature_name = Diabetes.drop('Class',axis=1).columns[feature_idx]\n",
    "print('\\nKey Features:',feature_name)"
   ]
  }
 ],
 "metadata": {
  "kernelspec": {
   "display_name": "Python 3 (ipykernel)",
   "language": "python",
   "name": "python3"
  },
  "language_info": {
   "codemirror_mode": {
    "name": "ipython",
    "version": 3
   },
   "file_extension": ".py",
   "mimetype": "text/x-python",
   "name": "python",
   "nbconvert_exporter": "python",
   "pygments_lexer": "ipython3",
   "version": "3.9.13"
  }
 },
 "nbformat": 4,
 "nbformat_minor": 2
}
